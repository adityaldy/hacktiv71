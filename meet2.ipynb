{
 "cells": [
  {
   "cell_type": "markdown",
   "id": "3a0c5bc5-7c37-4cd5-9840-bb34c6d3006a",
   "metadata": {},
   "source": [
    "- ada 2 variable\n",
    "- tinggi dan uang\n",
    "- statement bisa naik atau tidak\n",
    "- tinggi min 120\n",
    "- uang min 30000"
   ]
  },
  {
   "cell_type": "code",
   "execution_count": null,
   "id": "63bd4025-f7d0-438b-9ef9-32ac8eef6073",
   "metadata": {},
   "outputs": [],
   "source": [
    "nama = \"Andi\"\n",
    "tinggi = \"130\"\n",
    "uang = \"20000\"\n",
    "\n"
   ]
  }
 ],
 "metadata": {
  "kernelspec": {
   "display_name": "Python 3 (ipykernel)",
   "language": "python",
   "name": "python3"
  },
  "language_info": {
   "codemirror_mode": {
    "name": "ipython",
    "version": 3
   },
   "file_extension": ".py",
   "mimetype": "text/x-python",
   "name": "python",
   "nbconvert_exporter": "python",
   "pygments_lexer": "ipython3",
   "version": "3.9.7"
  }
 },
 "nbformat": 4,
 "nbformat_minor": 5
}
