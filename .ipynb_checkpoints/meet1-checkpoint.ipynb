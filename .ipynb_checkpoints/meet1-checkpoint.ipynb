{
 "cells": [
  {
   "cell_type": "markdown",
   "id": "c2f2360a-cf0c-433d-97d2-cdda3a713a2a",
   "metadata": {
    "tags": []
   },
   "source": [
    "# Variable simple data type Integer"
   ]
  },
  {
   "cell_type": "code",
   "execution_count": 11,
   "id": "41df94cb-f692-4f4f-800e-bf1fdeaf551a",
   "metadata": {},
   "outputs": [
    {
     "name": "stdout",
     "output_type": "stream",
     "text": [
      "3\n",
      "<class 'int'>\n"
     ]
    }
   ],
   "source": [
    "x = 1\n",
    "y = 2\n",
    "\n",
    "SimpleMath = x+y\n",
    "print(SimpleMath)\n",
    "print(type(SimpleMath))"
   ]
  },
  {
   "cell_type": "markdown",
   "id": "8e97bdd0-d586-49fa-a234-2b93b7384163",
   "metadata": {},
   "source": [
    "# Variable simple data type Float"
   ]
  },
  {
   "cell_type": "code",
   "execution_count": 14,
   "id": "a94f66da-2124-438d-bd36-0f51af89c348",
   "metadata": {},
   "outputs": [
    {
     "name": "stdout",
     "output_type": "stream",
     "text": [
      "3.0\n",
      "<class 'float'>\n"
     ]
    }
   ],
   "source": [
    "x = 3/2\n",
    "y = 15/10\n",
    "\n",
    "SimpleMath = x+y\n",
    "print(SimpleMath)\n",
    "print(type(SimpleMath))"
   ]
  },
  {
   "cell_type": "markdown",
   "id": "7cbbe3d1-d747-4322-93f5-e79df158afc1",
   "metadata": {},
   "source": [
    "# Variable simple data type String"
   ]
  },
  {
   "cell_type": "code",
   "execution_count": 4,
   "id": "1d583375-6eec-402f-8bdf-07945d79cf06",
   "metadata": {},
   "outputs": [
    {
     "name": "stdout",
     "output_type": "stream",
     "text": [
      "3\n",
      "<class 'str'>\n"
     ]
    }
   ],
   "source": [
    "SimpleMath = \"3\"\n",
    "print(SimpleMath)\n",
    "print(type(SimpleMath))"
   ]
  },
  {
   "cell_type": "markdown",
   "id": "16a09b3d-8bd5-4dd7-918e-fcce7c07887c",
   "metadata": {},
   "source": [
    "# Variable simple data type Boolean"
   ]
  },
  {
   "cell_type": "code",
   "execution_count": 10,
   "id": "4524a7be-57ab-46af-898a-bb36486c0554",
   "metadata": {},
   "outputs": [
    {
     "name": "stdout",
     "output_type": "stream",
     "text": [
      "False\n",
      "<class 'bool'>\n"
     ]
    }
   ],
   "source": [
    "SimpleMath = False\n",
    "print(bool(SimpleMath))\n",
    "print(type(SimpleMath))"
   ]
  },
  {
   "cell_type": "markdown",
   "id": "c3aeab78-e88f-49c7-a1b5-41bb87b87712",
   "metadata": {},
   "source": [
    "# Variable structured data type List "
   ]
  },
  {
   "cell_type": "code",
   "execution_count": 15,
   "id": "88b55173-b163-4ba0-9a75-58360ef758ff",
   "metadata": {},
   "outputs": [
    {
     "name": "stdout",
     "output_type": "stream",
     "text": [
      "['phyton', 'java', 'ruby']\n",
      "<class 'list'>\n"
     ]
    }
   ],
   "source": [
    "ListLang = ['phyton','java','ruby']\n",
    "print(ListLang)\n",
    "print(type(ListLang))"
   ]
  },
  {
   "cell_type": "code",
   "execution_count": 16,
   "id": "7826c4f5-c7b5-4673-939e-d2aa66668fbd",
   "metadata": {},
   "outputs": [
    {
     "name": "stdout",
     "output_type": "stream",
     "text": [
      "ruby\n"
     ]
    }
   ],
   "source": [
    "Lang = ListLang[2]\n",
    "print(Lang)"
   ]
  },
  {
   "cell_type": "code",
   "execution_count": 31,
   "id": "1bcc7783-f14e-4b09-85ca-56928d4877d4",
   "metadata": {},
   "outputs": [
    {
     "name": "stdout",
     "output_type": "stream",
     "text": [
      "['phyton']\n"
     ]
    }
   ],
   "source": [
    "Lang1 = ListLang[0:1:2]\n",
    "print(Lang1)"
   ]
  },
  {
   "cell_type": "code",
   "execution_count": null,
   "id": "3924fd94-a876-4441-9aa1-b62392b76737",
   "metadata": {},
   "outputs": [],
   "source": []
  }
 ],
 "metadata": {
  "kernelspec": {
   "display_name": "Python 3 (ipykernel)",
   "language": "python",
   "name": "python3"
  },
  "language_info": {
   "codemirror_mode": {
    "name": "ipython",
    "version": 3
   },
   "file_extension": ".py",
   "mimetype": "text/x-python",
   "name": "python",
   "nbconvert_exporter": "python",
   "pygments_lexer": "ipython3",
   "version": "3.9.7"
  }
 },
 "nbformat": 4,
 "nbformat_minor": 5
}
